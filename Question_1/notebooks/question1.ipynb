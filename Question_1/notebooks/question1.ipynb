{
  "nbformat": 4,
  "nbformat_minor": 0,
  "metadata": {
    "colab": {
      "provenance": []
    },
    "kernelspec": {
      "name": "python3",
      "display_name": "Python 3"
    },
    "language_info": {
      "name": "python"
    }
  },
  "cells": [
    {
      "cell_type": "code",
      "source": [
        "!pip install fpdf"
      ],
      "metadata": {
        "colab": {
          "base_uri": "https://localhost:8080/"
        },
        "id": "Uj32HPXe9VNI",
        "outputId": "ccb02813-6af5-4a04-b2d3-c1c0f3ef1839"
      },
      "execution_count": 3,
      "outputs": [
        {
          "output_type": "stream",
          "name": "stdout",
          "text": [
            "Collecting fpdf\n",
            "  Downloading fpdf-1.7.2.tar.gz (39 kB)\n",
            "  Preparing metadata (setup.py) ... \u001b[?25l\u001b[?25hdone\n",
            "Building wheels for collected packages: fpdf\n",
            "  Building wheel for fpdf (setup.py) ... \u001b[?25l\u001b[?25hdone\n",
            "  Created wheel for fpdf: filename=fpdf-1.7.2-py2.py3-none-any.whl size=40704 sha256=cbd6fe41899df476191351a31fcd35da0f6a64501395f245f5f9955d8ed06f76\n",
            "  Stored in directory: /root/.cache/pip/wheels/65/4f/66/bbda9866da446a72e206d6484cd97381cbc7859a7068541c36\n",
            "Successfully built fpdf\n",
            "Installing collected packages: fpdf\n",
            "Successfully installed fpdf-1.7.2\n"
          ]
        }
      ]
    },
    {
      "cell_type": "code",
      "execution_count": 6,
      "metadata": {
        "colab": {
          "base_uri": "https://localhost:8080/",
          "height": 35
        },
        "id": "oj6Itc8U8B4N",
        "outputId": "707b5e28-46ac-4b61-d9e9-0a4a42e2fbd0"
      },
      "outputs": [
        {
          "output_type": "execute_result",
          "data": {
            "text/plain": [
              "''"
            ],
            "application/vnd.google.colaboratory.intrinsic+json": {
              "type": "string"
            }
          },
          "metadata": {},
          "execution_count": 6
        }
      ],
      "source": [
        "import pandas as pd\n",
        "import seaborn as sns\n",
        "import matplotlib.pyplot as plt\n",
        "from fpdf import FPDF\n",
        "import os\n",
        "\n",
        "data_dir = '/content/drive/MyDrive/PDS_Assignment/Question_1/data/'\n",
        "results_dir = '/content/drive/MyDrive/PDS_Assignment/Question_1/results/'\n",
        "\n",
        "os.makedirs(data_dir, exist_ok=True)\n",
        "os.makedirs(results_dir + '/visualizations', exist_ok=True)\n",
        "\n",
        "raw_data = {\n",
        "    'Height': [65.8, 71.5, 69.4, 68.2, 67.8, 68.7, 69.8, 70.1, 67.9, 66.8],\n",
        "    'Weight': [112, 136, 153, 142, 144, 123, 141, 136, 112, 120],\n",
        "    'Age': [30, 19, 45, 22, 29, 50, 51, 23, 17, 39],\n",
        "    'Grip strength': [30, 31, 29, 28, 24, 26, 22, 20, 19, 31],\n",
        "    'Frailty': ['N', 'N', 'N', 'Y', 'Y', 'N', 'Y', 'Y', 'N', 'N']\n",
        "}\n",
        "\n",
        "df_raw = pd.DataFrame(raw_data)\n",
        "df_raw.to_csv(data_dir + 'raw_data.csv', index=False)\n",
        "\n",
        "df_raw['Frailty'] = df_raw['Frailty'].map({'N': 0, 'Y': 1})\n",
        "df_raw.to_csv(data_dir + 'cleaned_data.csv', index=False)\n",
        "\n",
        "df_raw['BMI'] = df_raw['Weight'] / (df_raw['Height'] * 0.0254)**2\n",
        "df_raw.to_csv(data_dir + 'processed_data.csv', index=False)\n",
        "\n",
        "correlation = df_raw['Grip strength'].corr(df_raw['Frailty'])\n",
        "\n",
        "plt.figure(figsize=(8, 6))\n",
        "sns.scatterplot(x='Grip strength', y='Frailty', data=df_raw)\n",
        "plt.title('Grip Strength vs. Frailty')\n",
        "plt.xlabel('Grip Strength (kg)')\n",
        "plt.ylabel('Frailty (0 = No, 1 = Yes)')\n",
        "plt.savefig(results_dir + 'visualizations/scatter_plot.png')\n",
        "plt.close()\n",
        "\n",
        "plt.figure(figsize=(8, 6))\n",
        "sns.boxplot(x='Frailty', y='Grip strength', data=df_raw)\n",
        "plt.title('Grip Strength by Frailty Status')\n",
        "plt.xlabel('Frailty (0 = No, 1 = Yes)')\n",
        "plt.ylabel('Grip Strength (kg)')\n",
        "plt.savefig(results_dir + 'visualizations/box_plot.png')\n",
        "plt.close()\n",
        "\n",
        "plt.figure(figsize=(8, 6))\n",
        "sns.histplot(df_raw['Grip strength'], kde=True)\n",
        "plt.title('Distribution of Grip Strength')\n",
        "plt.xlabel('Grip Strength (kg)')\n",
        "plt.ylabel('Frequency')\n",
        "plt.savefig(results_dir + 'visualizations/grip_strength_histogram.png')\n",
        "plt.close()\n",
        "\n",
        "plt.figure(figsize=(8, 6))\n",
        "sns.countplot(x='Frailty', data=df_raw)\n",
        "plt.title('Frailty Count')\n",
        "plt.xlabel('Frailty (0 = No, 1 = Yes)')\n",
        "plt.ylabel('Count')\n",
        "plt.savefig(results_dir + 'visualizations/frailty_count_plot.png')\n",
        "plt.close()\n",
        "\n",
        "plt.figure(figsize=(8, 6))\n",
        "sns.regplot(x='Age', y='Grip strength', data=df_raw)\n",
        "plt.title('Grip Strength vs. Age')\n",
        "plt.xlabel('Age (years)')\n",
        "plt.ylabel('Grip Strength (kg)')\n",
        "plt.savefig(results_dir + 'visualizations/age_grip_strength_regression.png')\n",
        "plt.close()\n",
        "\n",
        "with open(results_dir + 'analysis_results.txt', 'w') as f:\n",
        "    f.write(f\"Correlation between grip strength and frailty: {correlation}\\n\")\n",
        "    f.write(\"Box plot, scatter plot, grip strength histogram, frailty count plot, and regression plot saved in the visualizations folder.\")\n",
        "\n",
        "pdf = FPDF()\n",
        "pdf.add_page()\n",
        "pdf.set_font(\"Arial\", 'B', 16)\n",
        "pdf.cell(200, 10, txt=\"Frailty Analysis Report\", ln=True, align=\"C\")\n",
        "\n",
        "pdf.set_font(\"Arial\", 'B', 12)\n",
        "pdf.ln(10)\n",
        "pdf.cell(200, 10, txt=\"1. Correlation Between Grip Strength and Frailty\", ln=True)\n",
        "\n",
        "pdf.set_font(\"Arial\", size=12)\n",
        "pdf.multi_cell(0, 10, txt=f\"The correlation between grip strength and frailty is {correlation:.2f}.\")\n",
        "\n",
        "pdf.ln(10)\n",
        "pdf.cell(200, 10, txt=\"2. Visualizations\", ln=True)\n",
        "\n",
        "pdf.image(results_dir + \"visualizations/scatter_plot.png\", x=10, y=pdf.get_y(), w=180)\n",
        "\n",
        "pdf.ln(90)\n",
        "pdf.image(results_dir + \"visualizations/box_plot.png\", x=10, y=pdf.get_y(), w=180)\n",
        "\n",
        "pdf.ln(90)\n",
        "pdf.image(results_dir + \"visualizations/grip_strength_histogram.png\", x=10, y=pdf.get_y(), w=180)\n",
        "\n",
        "pdf.ln(90)\n",
        "pdf.image(results_dir + \"visualizations/frailty_count_plot.png\", x=10, y=pdf.get_y(), w=180)\n",
        "\n",
        "pdf.ln(90)\n",
        "pdf.image(results_dir + \"visualizations/age_grip_strength_regression.png\", x=10, y=pdf.get_y(), w=180)\n",
        "\n",
        "pdf.output(results_dir + \"frailty_analysis_report.pdf\")\n"
      ]
    },
    {
      "cell_type": "code",
      "source": [],
      "metadata": {
        "id": "ihLEwQ0g8kpA"
      },
      "execution_count": null,
      "outputs": []
    }
  ]
}