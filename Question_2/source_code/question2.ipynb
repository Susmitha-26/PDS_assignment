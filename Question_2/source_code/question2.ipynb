{
  "nbformat": 4,
  "nbformat_minor": 0,
  "metadata": {
    "colab": {
      "provenance": []
    },
    "kernelspec": {
      "name": "python3",
      "display_name": "Python 3"
    },
    "language_info": {
      "name": "python"
    }
  },
  "cells": [
    {
      "cell_type": "markdown",
      "source": [],
      "metadata": {
        "id": "om9DxYe1vw37"
      }
    },
    {
      "cell_type": "code",
      "source": [
        "!pip install fpdf"
      ],
      "metadata": {
        "colab": {
          "base_uri": "https://localhost:8080/"
        },
        "id": "g1GrTJ7H_S8m",
        "outputId": "c7b7a787-e13f-442f-c162-07d4ded3a199"
      },
      "execution_count": 2,
      "outputs": [
        {
          "output_type": "stream",
          "name": "stdout",
          "text": [
            "Collecting fpdf\n",
            "  Downloading fpdf-1.7.2.tar.gz (39 kB)\n",
            "  Preparing metadata (setup.py) ... \u001b[?25l\u001b[?25hdone\n",
            "Building wheels for collected packages: fpdf\n",
            "  Building wheel for fpdf (setup.py) ... \u001b[?25l\u001b[?25hdone\n",
            "  Created wheel for fpdf: filename=fpdf-1.7.2-py2.py3-none-any.whl size=40704 sha256=e64efee539f8f35c5ac28c3b144645d1394e0bcd64e4b3c9976893730cf7fae1\n",
            "  Stored in directory: /root/.cache/pip/wheels/65/4f/66/bbda9866da446a72e206d6484cd97381cbc7859a7068541c36\n",
            "Successfully built fpdf\n",
            "Installing collected packages: fpdf\n",
            "Successfully installed fpdf-1.7.2\n"
          ]
        }
      ]
    },
    {
      "cell_type": "code",
      "source": [
        "import pandas as pd\n",
        "import seaborn as sns\n",
        "import matplotlib.pyplot as plt\n",
        "from fpdf import FPDF\n",
        "import os\n",
        "\n",
        "# Set paths for storing the data and results\n",
        "data_dir = '/content/drive/MyDrive/PDS_Assignment/Question_2/data/'\n",
        "results_dir = '/content/drive/MyDrive/PDS_Assignment/Question_2/results/'\n",
        "\n",
        "# Create directories if they don't exist\n",
        "os.makedirs(data_dir, exist_ok=True)\n",
        "os.makedirs(results_dir + '/visualizations', exist_ok=True)\n",
        "\n",
        "# Sample dataset URL or local file path\n",
        "df = pd.read_csv(\"/content/drive/MyDrive/PDS_Assignment/Question_2/data/StudentsPerformance.csv\")\n",
        "\n",
        "# Save original data to CSV\n",
        "df.to_csv(data_dir + 'student_performance_data.csv', index=False)\n",
        "\n",
        "# Check the data types to identify categorical columns\n",
        "print(df.dtypes)\n",
        "\n",
        "# Cleaned Data: Convert categorical columns to numerical values (if necessary)\n",
        "df['gender'] = df['gender'].map({'male': 0, 'female': 1})\n",
        "df['lunch'] = df['lunch'].map({'standard': 0, 'free/reduced': 1})\n",
        "df['test preparation course'] = df['test preparation course'].map({'none': 0, 'completed': 1})\n",
        "\n",
        "# If there's a 'group' column (e.g., 'group A', 'group B'), convert it to numeric\n",
        "# Assuming that the column name is 'group', adjust the name if it's different\n",
        "if 'group' in df.columns:\n",
        "    df['group'] = df['group'].map({'group A': 0, 'group B': 1})\n",
        "\n",
        "# Save cleaned data to CSV\n",
        "df.to_csv(data_dir + 'student_performance_cleaned_data.csv', index=False)\n",
        "\n",
        "# Calculate correlations for numerical columns\n",
        "correlation_math_reading = df['math score'].corr(df['reading score'])\n",
        "correlation_math_writing = df['math score'].corr(df['writing score'])\n",
        "correlation_reading_writing = df['reading score'].corr(df['writing score'])\n",
        "\n",
        "# Processed Data (correlation results, in this case we keep the dataframe unchanged for now)\n",
        "processed_data = df.copy()  # Keep a copy of the cleaned data as processed data\n",
        "\n",
        "# Save processed data to CSV\n",
        "processed_data.to_csv(data_dir + 'student_performance_processed_data.csv', index=False)\n",
        "\n",
        "# Scatter Plot: Math Score vs. Reading Score\n",
        "plt.figure(figsize=(8, 6))\n",
        "sns.scatterplot(x='math score', y='reading score', data=df)\n",
        "plt.title('Math Score vs. Reading Score')\n",
        "plt.xlabel('Math Score')\n",
        "plt.ylabel('Reading Score')\n",
        "plt.savefig(results_dir + 'visualizations/math_reading_scatter.png')\n",
        "plt.close()\n",
        "\n",
        "# Box Plot: Math Score by Gender\n",
        "plt.figure(figsize=(8, 6))\n",
        "sns.boxplot(x='gender', y='math score', data=df)\n",
        "plt.title('Math Score by Gender')\n",
        "plt.xlabel('Gender')\n",
        "plt.ylabel('Math Score')\n",
        "plt.savefig(results_dir + 'visualizations/gender_math_boxplot.png')\n",
        "plt.close()\n",
        "\n",
        "# Histogram: Distribution of Math Scores\n",
        "plt.figure(figsize=(8, 6))\n",
        "sns.histplot(df['math score'], kde=True)\n",
        "plt.title('Distribution of Math Scores')\n",
        "plt.xlabel('Math Score')\n",
        "plt.ylabel('Frequency')\n",
        "plt.savefig(results_dir + 'visualizations/math_score_histogram.png')\n",
        "plt.close()\n",
        "\n",
        "# Count Plot: Test Preparation Course Completion\n",
        "plt.figure(figsize=(8, 6))\n",
        "sns.countplot(x='test preparation course', data=df)\n",
        "plt.title('Test Preparation Course Completion')\n",
        "plt.xlabel('Test Preparation Course')\n",
        "plt.ylabel('Count')\n",
        "plt.savefig(results_dir + 'visualizations/test_preparation_countplot.png')\n",
        "plt.close()\n",
        "\n",
        "# Pairplot: Relationships between numerical features (Math, Reading, and Writing scores)\n",
        "sns.pairplot(df[['math score', 'reading score', 'writing score']])\n",
        "plt.savefig(results_dir + 'visualizations/pairplot.png')\n",
        "plt.close()\n",
        "\n",
        "# Save correlation results to a text file\n",
        "with open(results_dir + 'analysis_results.txt', 'w') as f:\n",
        "    f.write(f\"Correlation between math and reading score: {correlation_math_reading}\\n\")\n",
        "    f.write(f\"Correlation between math and writing score: {correlation_math_writing}\\n\")\n",
        "    f.write(f\"Correlation between reading and writing score: {correlation_reading_writing}\\n\")\n",
        "    f.write(\"Visualizations: math_reading_scatter, gender_math_boxplot, math_score_histogram, test_preparation_countplot, pairplot\")\n",
        "\n",
        "# Create a PDF report with visualizations and analysis\n",
        "pdf = FPDF()\n",
        "pdf.add_page()\n",
        "pdf.set_font(\"Arial\", 'B', 16)\n",
        "pdf.cell(200, 10, txt=\"Student Performance Analysis Report\", ln=True, align=\"C\")\n",
        "\n",
        "pdf.set_font(\"Arial\", 'B', 12)\n",
        "pdf.ln(10)\n",
        "pdf.cell(200, 10, txt=\"1. Correlations\", ln=True)\n",
        "\n",
        "pdf.set_font(\"Arial\", size=12)\n",
        "pdf.multi_cell(0, 10, txt=f\"Correlation between math and reading score: {correlation_math_reading:.2f}\\n\"\n",
        "                          f\"Correlation between math and writing score: {correlation_math_writing:.2f}\\n\"\n",
        "                          f\"Correlation between reading and writing score: {correlation_reading_writing:.2f}\")\n",
        "\n",
        "pdf.ln(10)\n",
        "pdf.cell(200, 10, txt=\"2. Visualizations\", ln=True)\n",
        "\n",
        "pdf.image(results_dir + \"visualizations/math_reading_scatter.png\", x=10, y=pdf.get_y(), w=180)\n",
        "\n",
        "pdf.ln(90)\n",
        "pdf.image(results_dir + \"visualizations/gender_math_boxplot.png\", x=10, y=pdf.get_y(), w=180)\n",
        "\n",
        "pdf.ln(90)\n",
        "pdf.image(results_dir + \"visualizations/math_score_histogram.png\", x=10, y=pdf.get_y(), w=180)\n",
        "\n",
        "pdf.ln(90)\n",
        "pdf.image(results_dir + \"visualizations/test_preparation_countplot.png\", x=10, y=pdf.get_y(), w=180)\n",
        "\n",
        "pdf.ln(90)\n",
        "pdf.image(results_dir + \"visualizations/pairplot.png\", x=10, y=pdf.get_y(), w=180)\n",
        "\n",
        "pdf.output(results_dir + \"student_performance_analysis_report.pdf\")\n"
      ],
      "metadata": {
        "colab": {
          "base_uri": "https://localhost:8080/",
          "height": 192
        },
        "id": "i3JnB_dX-t_1",
        "outputId": "450dd96f-b367-4f35-8005-467d8d121ed3"
      },
      "execution_count": 11,
      "outputs": [
        {
          "output_type": "stream",
          "name": "stdout",
          "text": [
            "gender                         object\n",
            "race/ethnicity                 object\n",
            "parental level of education    object\n",
            "lunch                          object\n",
            "test preparation course        object\n",
            "math score                      int64\n",
            "reading score                   int64\n",
            "writing score                   int64\n",
            "dtype: object\n"
          ]
        },
        {
          "output_type": "execute_result",
          "data": {
            "text/plain": [
              "''"
            ],
            "application/vnd.google.colaboratory.intrinsic+json": {
              "type": "string"
            }
          },
          "metadata": {},
          "execution_count": 11
        }
      ]
    },
    {
      "cell_type": "code",
      "source": [],
      "metadata": {
        "id": "XOVNpMaxAkju"
      },
      "execution_count": null,
      "outputs": []
    }
  ]
}